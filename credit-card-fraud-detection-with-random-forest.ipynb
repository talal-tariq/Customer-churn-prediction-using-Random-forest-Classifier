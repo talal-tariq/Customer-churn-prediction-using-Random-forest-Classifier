{
 "cells": [
  {
   "cell_type": "code",
   "execution_count": 1,
   "id": "062e681d",
   "metadata": {
    "execution": {
     "iopub.execute_input": "2023-10-22T08:17:48.431077Z",
     "iopub.status.busy": "2023-10-22T08:17:48.430233Z",
     "iopub.status.idle": "2023-10-22T08:17:50.440417Z",
     "shell.execute_reply": "2023-10-22T08:17:50.439588Z"
    },
    "id": "NO6rm3y9GAtO",
    "papermill": {
     "duration": 2.024113,
     "end_time": "2023-10-22T08:17:50.442819",
     "exception": false,
     "start_time": "2023-10-22T08:17:48.418706",
     "status": "completed"
    },
    "tags": []
   },
   "outputs": [
    {
     "name": "stderr",
     "output_type": "stream",
     "text": [
      "/opt/conda/lib/python3.10/site-packages/scipy/__init__.py:146: UserWarning: A NumPy version >=1.16.5 and <1.23.0 is required for this version of SciPy (detected version 1.23.5\n",
      "  warnings.warn(f\"A NumPy version >={np_minversion} and <{np_maxversion}\"\n"
     ]
    }
   ],
   "source": [
    "import pandas as pd\n",
    "import numpy as np\n",
    "import seaborn as sns\n",
    "import matplotlib.pyplot as plt\n",
    "import missingno as msno\n",
    "import datetime as dt"
   ]
  },
  {
   "cell_type": "code",
   "execution_count": 2,
   "id": "314fe105",
   "metadata": {
    "execution": {
     "iopub.execute_input": "2023-10-22T08:17:50.464870Z",
     "iopub.status.busy": "2023-10-22T08:17:50.464453Z",
     "iopub.status.idle": "2023-10-22T08:18:00.712038Z",
     "shell.execute_reply": "2023-10-22T08:18:00.711112Z"
    },
    "id": "UoRVze3NecgA",
    "outputId": "eb0dfad8-f38f-4486-e68a-8d7c4cc841ea",
    "papermill": {
     "duration": 10.261015,
     "end_time": "2023-10-22T08:18:00.714258",
     "exception": false,
     "start_time": "2023-10-22T08:17:50.453243",
     "status": "completed"
    },
    "tags": []
   },
   "outputs": [
    {
     "data": {
      "text/html": [
       "<div>\n",
       "<style scoped>\n",
       "    .dataframe tbody tr th:only-of-type {\n",
       "        vertical-align: middle;\n",
       "    }\n",
       "\n",
       "    .dataframe tbody tr th {\n",
       "        vertical-align: top;\n",
       "    }\n",
       "\n",
       "    .dataframe thead th {\n",
       "        text-align: right;\n",
       "    }\n",
       "</style>\n",
       "<table border=\"1\" class=\"dataframe\">\n",
       "  <thead>\n",
       "    <tr style=\"text-align: right;\">\n",
       "      <th></th>\n",
       "      <th>Unnamed: 0</th>\n",
       "      <th>trans_date_trans_time</th>\n",
       "      <th>cc_num</th>\n",
       "      <th>merchant</th>\n",
       "      <th>category</th>\n",
       "      <th>amt</th>\n",
       "      <th>first</th>\n",
       "      <th>last</th>\n",
       "      <th>gender</th>\n",
       "      <th>street</th>\n",
       "      <th>...</th>\n",
       "      <th>lat</th>\n",
       "      <th>long</th>\n",
       "      <th>city_pop</th>\n",
       "      <th>job</th>\n",
       "      <th>dob</th>\n",
       "      <th>trans_num</th>\n",
       "      <th>unix_time</th>\n",
       "      <th>merch_lat</th>\n",
       "      <th>merch_long</th>\n",
       "      <th>is_fraud</th>\n",
       "    </tr>\n",
       "  </thead>\n",
       "  <tbody>\n",
       "    <tr>\n",
       "      <th>0</th>\n",
       "      <td>0</td>\n",
       "      <td>2019-01-01 00:00:18</td>\n",
       "      <td>2703186189652095</td>\n",
       "      <td>fraud_Rippin, Kub and Mann</td>\n",
       "      <td>misc_net</td>\n",
       "      <td>4.97</td>\n",
       "      <td>Jennifer</td>\n",
       "      <td>Banks</td>\n",
       "      <td>F</td>\n",
       "      <td>561 Perry Cove</td>\n",
       "      <td>...</td>\n",
       "      <td>36.0788</td>\n",
       "      <td>-81.1781</td>\n",
       "      <td>3495</td>\n",
       "      <td>Psychologist, counselling</td>\n",
       "      <td>1988-03-09</td>\n",
       "      <td>0b242abb623afc578575680df30655b9</td>\n",
       "      <td>1325376018</td>\n",
       "      <td>36.011293</td>\n",
       "      <td>-82.048315</td>\n",
       "      <td>0</td>\n",
       "    </tr>\n",
       "    <tr>\n",
       "      <th>1</th>\n",
       "      <td>1</td>\n",
       "      <td>2019-01-01 00:00:44</td>\n",
       "      <td>630423337322</td>\n",
       "      <td>fraud_Heller, Gutmann and Zieme</td>\n",
       "      <td>grocery_pos</td>\n",
       "      <td>107.23</td>\n",
       "      <td>Stephanie</td>\n",
       "      <td>Gill</td>\n",
       "      <td>F</td>\n",
       "      <td>43039 Riley Greens Suite 393</td>\n",
       "      <td>...</td>\n",
       "      <td>48.8878</td>\n",
       "      <td>-118.2105</td>\n",
       "      <td>149</td>\n",
       "      <td>Special educational needs teacher</td>\n",
       "      <td>1978-06-21</td>\n",
       "      <td>1f76529f8574734946361c461b024d99</td>\n",
       "      <td>1325376044</td>\n",
       "      <td>49.159047</td>\n",
       "      <td>-118.186462</td>\n",
       "      <td>0</td>\n",
       "    </tr>\n",
       "  </tbody>\n",
       "</table>\n",
       "<p>2 rows × 23 columns</p>\n",
       "</div>"
      ],
      "text/plain": [
       "   Unnamed: 0 trans_date_trans_time            cc_num  \\\n",
       "0           0   2019-01-01 00:00:18  2703186189652095   \n",
       "1           1   2019-01-01 00:00:44      630423337322   \n",
       "\n",
       "                          merchant     category     amt      first   last  \\\n",
       "0       fraud_Rippin, Kub and Mann     misc_net    4.97   Jennifer  Banks   \n",
       "1  fraud_Heller, Gutmann and Zieme  grocery_pos  107.23  Stephanie   Gill   \n",
       "\n",
       "  gender                        street  ...      lat      long  city_pop  \\\n",
       "0      F                561 Perry Cove  ...  36.0788  -81.1781      3495   \n",
       "1      F  43039 Riley Greens Suite 393  ...  48.8878 -118.2105       149   \n",
       "\n",
       "                                 job         dob  \\\n",
       "0          Psychologist, counselling  1988-03-09   \n",
       "1  Special educational needs teacher  1978-06-21   \n",
       "\n",
       "                          trans_num   unix_time  merch_lat  merch_long  \\\n",
       "0  0b242abb623afc578575680df30655b9  1325376018  36.011293  -82.048315   \n",
       "1  1f76529f8574734946361c461b024d99  1325376044  49.159047 -118.186462   \n",
       "\n",
       "   is_fraud  \n",
       "0         0  \n",
       "1         0  \n",
       "\n",
       "[2 rows x 23 columns]"
      ]
     },
     "execution_count": 2,
     "metadata": {},
     "output_type": "execute_result"
    }
   ],
   "source": [
    "csv_path_train=\"/kaggle/input/fraud-detection/fraudTrain.csv\"\n",
    "data=pd.read_csv(csv_path_train)\n",
    "df_train=pd.DataFrame(data)\n",
    "df_train.head(2)"
   ]
  },
  {
   "cell_type": "code",
   "execution_count": 3,
   "id": "b4240b07",
   "metadata": {
    "execution": {
     "iopub.execute_input": "2023-10-22T08:18:00.735230Z",
     "iopub.status.busy": "2023-10-22T08:18:00.734962Z",
     "iopub.status.idle": "2023-10-22T08:18:07.659288Z",
     "shell.execute_reply": "2023-10-22T08:18:07.658315Z"
    },
    "id": "2IKoGrv274yo",
    "outputId": "fac8d0fb-b173-4949-8aa2-6b955662e787",
    "papermill": {
     "duration": 6.937495,
     "end_time": "2023-10-22T08:18:07.661839",
     "exception": false,
     "start_time": "2023-10-22T08:18:00.724344",
     "status": "completed"
    },
    "tags": []
   },
   "outputs": [
    {
     "data": {
      "text/html": [
       "<div>\n",
       "<style scoped>\n",
       "    .dataframe tbody tr th:only-of-type {\n",
       "        vertical-align: middle;\n",
       "    }\n",
       "\n",
       "    .dataframe tbody tr th {\n",
       "        vertical-align: top;\n",
       "    }\n",
       "\n",
       "    .dataframe thead th {\n",
       "        text-align: right;\n",
       "    }\n",
       "</style>\n",
       "<table border=\"1\" class=\"dataframe\">\n",
       "  <thead>\n",
       "    <tr style=\"text-align: right;\">\n",
       "      <th></th>\n",
       "      <th>Unnamed: 0</th>\n",
       "      <th>trans_date_trans_time</th>\n",
       "      <th>cc_num</th>\n",
       "      <th>merchant</th>\n",
       "      <th>category</th>\n",
       "      <th>amt</th>\n",
       "      <th>first</th>\n",
       "      <th>last</th>\n",
       "      <th>gender</th>\n",
       "      <th>street</th>\n",
       "      <th>...</th>\n",
       "      <th>lat</th>\n",
       "      <th>long</th>\n",
       "      <th>city_pop</th>\n",
       "      <th>job</th>\n",
       "      <th>dob</th>\n",
       "      <th>trans_num</th>\n",
       "      <th>unix_time</th>\n",
       "      <th>merch_lat</th>\n",
       "      <th>merch_long</th>\n",
       "      <th>is_fraud</th>\n",
       "    </tr>\n",
       "  </thead>\n",
       "  <tbody>\n",
       "    <tr>\n",
       "      <th>0</th>\n",
       "      <td>0</td>\n",
       "      <td>2019-01-01 00:00:18</td>\n",
       "      <td>2703186189652095</td>\n",
       "      <td>fraud_Rippin, Kub and Mann</td>\n",
       "      <td>misc_net</td>\n",
       "      <td>4.97</td>\n",
       "      <td>Jennifer</td>\n",
       "      <td>Banks</td>\n",
       "      <td>F</td>\n",
       "      <td>561 Perry Cove</td>\n",
       "      <td>...</td>\n",
       "      <td>36.0788</td>\n",
       "      <td>-81.1781</td>\n",
       "      <td>3495</td>\n",
       "      <td>Psychologist, counselling</td>\n",
       "      <td>1988-03-09</td>\n",
       "      <td>0b242abb623afc578575680df30655b9</td>\n",
       "      <td>1325376018</td>\n",
       "      <td>36.011293</td>\n",
       "      <td>-82.048315</td>\n",
       "      <td>0</td>\n",
       "    </tr>\n",
       "    <tr>\n",
       "      <th>1</th>\n",
       "      <td>1</td>\n",
       "      <td>2019-01-01 00:00:44</td>\n",
       "      <td>630423337322</td>\n",
       "      <td>fraud_Heller, Gutmann and Zieme</td>\n",
       "      <td>grocery_pos</td>\n",
       "      <td>107.23</td>\n",
       "      <td>Stephanie</td>\n",
       "      <td>Gill</td>\n",
       "      <td>F</td>\n",
       "      <td>43039 Riley Greens Suite 393</td>\n",
       "      <td>...</td>\n",
       "      <td>48.8878</td>\n",
       "      <td>-118.2105</td>\n",
       "      <td>149</td>\n",
       "      <td>Special educational needs teacher</td>\n",
       "      <td>1978-06-21</td>\n",
       "      <td>1f76529f8574734946361c461b024d99</td>\n",
       "      <td>1325376044</td>\n",
       "      <td>49.159047</td>\n",
       "      <td>-118.186462</td>\n",
       "      <td>0</td>\n",
       "    </tr>\n",
       "  </tbody>\n",
       "</table>\n",
       "<p>2 rows × 23 columns</p>\n",
       "</div>"
      ],
      "text/plain": [
       "   Unnamed: 0 trans_date_trans_time            cc_num  \\\n",
       "0           0   2019-01-01 00:00:18  2703186189652095   \n",
       "1           1   2019-01-01 00:00:44      630423337322   \n",
       "\n",
       "                          merchant     category     amt      first   last  \\\n",
       "0       fraud_Rippin, Kub and Mann     misc_net    4.97   Jennifer  Banks   \n",
       "1  fraud_Heller, Gutmann and Zieme  grocery_pos  107.23  Stephanie   Gill   \n",
       "\n",
       "  gender                        street  ...      lat      long  city_pop  \\\n",
       "0      F                561 Perry Cove  ...  36.0788  -81.1781      3495   \n",
       "1      F  43039 Riley Greens Suite 393  ...  48.8878 -118.2105       149   \n",
       "\n",
       "                                 job         dob  \\\n",
       "0          Psychologist, counselling  1988-03-09   \n",
       "1  Special educational needs teacher  1978-06-21   \n",
       "\n",
       "                          trans_num   unix_time  merch_lat  merch_long  \\\n",
       "0  0b242abb623afc578575680df30655b9  1325376018  36.011293  -82.048315   \n",
       "1  1f76529f8574734946361c461b024d99  1325376044  49.159047 -118.186462   \n",
       "\n",
       "   is_fraud  \n",
       "0         0  \n",
       "1         0  \n",
       "\n",
       "[2 rows x 23 columns]"
      ]
     },
     "execution_count": 3,
     "metadata": {},
     "output_type": "execute_result"
    }
   ],
   "source": [
    "csv_path_test=\"/kaggle/input/fraud-detection/fraudTrain.csv\"\n",
    "data=pd.read_csv(csv_path_test)\n",
    "df_test=pd.DataFrame(data)\n",
    "df_test.head(2)"
   ]
  },
  {
   "cell_type": "code",
   "execution_count": 4,
   "id": "10239bcd",
   "metadata": {
    "execution": {
     "iopub.execute_input": "2023-10-22T08:18:07.688448Z",
     "iopub.status.busy": "2023-10-22T08:18:07.687486Z",
     "iopub.status.idle": "2023-10-22T08:18:09.179320Z",
     "shell.execute_reply": "2023-10-22T08:18:09.178427Z"
    },
    "id": "mAkiFA87II0e",
    "outputId": "a4e2c5a3-ec48-4d34-91cc-a95b6641fc09",
    "papermill": {
     "duration": 1.505971,
     "end_time": "2023-10-22T08:18:09.182021",
     "exception": false,
     "start_time": "2023-10-22T08:18:07.676050",
     "status": "completed"
    },
    "tags": []
   },
   "outputs": [
    {
     "name": "stdout",
     "output_type": "stream",
     "text": [
      "<class 'pandas.core.frame.DataFrame'>\n",
      "RangeIndex: 1296675 entries, 0 to 1296674\n",
      "Data columns (total 23 columns):\n",
      " #   Column                 Non-Null Count    Dtype  \n",
      "---  ------                 --------------    -----  \n",
      " 0   Unnamed: 0             1296675 non-null  int64  \n",
      " 1   trans_date_trans_time  1296675 non-null  object \n",
      " 2   cc_num                 1296675 non-null  int64  \n",
      " 3   merchant               1296675 non-null  object \n",
      " 4   category               1296675 non-null  object \n",
      " 5   amt                    1296675 non-null  float64\n",
      " 6   first                  1296675 non-null  object \n",
      " 7   last                   1296675 non-null  object \n",
      " 8   gender                 1296675 non-null  object \n",
      " 9   street                 1296675 non-null  object \n",
      " 10  city                   1296675 non-null  object \n",
      " 11  state                  1296675 non-null  object \n",
      " 12  zip                    1296675 non-null  int64  \n",
      " 13  lat                    1296675 non-null  float64\n",
      " 14  long                   1296675 non-null  float64\n",
      " 15  city_pop               1296675 non-null  int64  \n",
      " 16  job                    1296675 non-null  object \n",
      " 17  dob                    1296675 non-null  object \n",
      " 18  trans_num              1296675 non-null  object \n",
      " 19  unix_time              1296675 non-null  int64  \n",
      " 20  merch_lat              1296675 non-null  float64\n",
      " 21  merch_long             1296675 non-null  float64\n",
      " 22  is_fraud               1296675 non-null  int64  \n",
      "dtypes: float64(5), int64(6), object(12)\n",
      "memory usage: 227.5+ MB\n"
     ]
    }
   ],
   "source": [
    "df_train.info()"
   ]
  },
  {
   "cell_type": "code",
   "execution_count": 5,
   "id": "1cb4952e",
   "metadata": {
    "execution": {
     "iopub.execute_input": "2023-10-22T08:18:09.204103Z",
     "iopub.status.busy": "2023-10-22T08:18:09.203828Z",
     "iopub.status.idle": "2023-10-22T08:18:10.603337Z",
     "shell.execute_reply": "2023-10-22T08:18:10.602451Z"
    },
    "id": "NZ-rncnNoEsw",
    "outputId": "e2321711-ee82-45a1-cb18-c4dd96aed254",
    "papermill": {
     "duration": 1.413007,
     "end_time": "2023-10-22T08:18:10.606076",
     "exception": false,
     "start_time": "2023-10-22T08:18:09.193069",
     "status": "completed"
    },
    "tags": []
   },
   "outputs": [
    {
     "name": "stdout",
     "output_type": "stream",
     "text": [
      "<class 'pandas.core.frame.DataFrame'>\n",
      "RangeIndex: 1296675 entries, 0 to 1296674\n",
      "Data columns (total 23 columns):\n",
      " #   Column                 Non-Null Count    Dtype  \n",
      "---  ------                 --------------    -----  \n",
      " 0   Unnamed: 0             1296675 non-null  int64  \n",
      " 1   trans_date_trans_time  1296675 non-null  object \n",
      " 2   cc_num                 1296675 non-null  int64  \n",
      " 3   merchant               1296675 non-null  object \n",
      " 4   category               1296675 non-null  object \n",
      " 5   amt                    1296675 non-null  float64\n",
      " 6   first                  1296675 non-null  object \n",
      " 7   last                   1296675 non-null  object \n",
      " 8   gender                 1296675 non-null  object \n",
      " 9   street                 1296675 non-null  object \n",
      " 10  city                   1296675 non-null  object \n",
      " 11  state                  1296675 non-null  object \n",
      " 12  zip                    1296675 non-null  int64  \n",
      " 13  lat                    1296675 non-null  float64\n",
      " 14  long                   1296675 non-null  float64\n",
      " 15  city_pop               1296675 non-null  int64  \n",
      " 16  job                    1296675 non-null  object \n",
      " 17  dob                    1296675 non-null  object \n",
      " 18  trans_num              1296675 non-null  object \n",
      " 19  unix_time              1296675 non-null  int64  \n",
      " 20  merch_lat              1296675 non-null  float64\n",
      " 21  merch_long             1296675 non-null  float64\n",
      " 22  is_fraud               1296675 non-null  int64  \n",
      "dtypes: float64(5), int64(6), object(12)\n",
      "memory usage: 227.5+ MB\n"
     ]
    }
   ],
   "source": [
    "df_test.info()"
   ]
  },
  {
   "cell_type": "markdown",
   "id": "3b316067",
   "metadata": {
    "id": "kHYdFvWNlZ4G",
    "papermill": {
     "duration": 0.010327,
     "end_time": "2023-10-22T08:18:10.627210",
     "exception": false,
     "start_time": "2023-10-22T08:18:10.616883",
     "status": "completed"
    },
    "tags": []
   },
   "source": [
    "# Exploratory Data Analysis (EDA)"
   ]
  },
  {
   "cell_type": "code",
   "execution_count": 6,
   "id": "7bdc6873",
   "metadata": {
    "execution": {
     "iopub.execute_input": "2023-10-22T08:18:10.649759Z",
     "iopub.status.busy": "2023-10-22T08:18:10.649359Z",
     "iopub.status.idle": "2023-10-22T08:18:12.085988Z",
     "shell.execute_reply": "2023-10-22T08:18:12.085046Z"
    },
    "id": "uA4NsVtDoJuM",
    "outputId": "5beb8394-588a-4c65-8862-3827acfe0f1a",
    "papermill": {
     "duration": 1.450623,
     "end_time": "2023-10-22T08:18:12.088150",
     "exception": false,
     "start_time": "2023-10-22T08:18:10.637527",
     "status": "completed"
    },
    "tags": []
   },
   "outputs": [
    {
     "data": {
      "text/plain": [
       "Unnamed: 0               0\n",
       "trans_date_trans_time    0\n",
       "cc_num                   0\n",
       "merchant                 0\n",
       "category                 0\n",
       "amt                      0\n",
       "first                    0\n",
       "last                     0\n",
       "gender                   0\n",
       "street                   0\n",
       "city                     0\n",
       "state                    0\n",
       "zip                      0\n",
       "lat                      0\n",
       "long                     0\n",
       "city_pop                 0\n",
       "job                      0\n",
       "dob                      0\n",
       "trans_num                0\n",
       "unix_time                0\n",
       "merch_lat                0\n",
       "merch_long               0\n",
       "is_fraud                 0\n",
       "dtype: int64"
      ]
     },
     "execution_count": 6,
     "metadata": {},
     "output_type": "execute_result"
    }
   ],
   "source": [
    "df_train.isnull().sum()"
   ]
  },
  {
   "cell_type": "code",
   "execution_count": 7,
   "id": "2e336fef",
   "metadata": {
    "execution": {
     "iopub.execute_input": "2023-10-22T08:18:12.110571Z",
     "iopub.status.busy": "2023-10-22T08:18:12.110271Z",
     "iopub.status.idle": "2023-10-22T08:18:13.497465Z",
     "shell.execute_reply": "2023-10-22T08:18:13.496428Z"
    },
    "id": "2A9UMYxvwJtY",
    "outputId": "84ea09a4-01ce-4702-f754-0e20a4648653",
    "papermill": {
     "duration": 1.400563,
     "end_time": "2023-10-22T08:18:13.499539",
     "exception": false,
     "start_time": "2023-10-22T08:18:12.098976",
     "status": "completed"
    },
    "tags": []
   },
   "outputs": [
    {
     "data": {
      "text/plain": [
       "Unnamed: 0               0\n",
       "trans_date_trans_time    0\n",
       "cc_num                   0\n",
       "merchant                 0\n",
       "category                 0\n",
       "amt                      0\n",
       "first                    0\n",
       "last                     0\n",
       "gender                   0\n",
       "street                   0\n",
       "city                     0\n",
       "state                    0\n",
       "zip                      0\n",
       "lat                      0\n",
       "long                     0\n",
       "city_pop                 0\n",
       "job                      0\n",
       "dob                      0\n",
       "trans_num                0\n",
       "unix_time                0\n",
       "merch_lat                0\n",
       "merch_long               0\n",
       "is_fraud                 0\n",
       "dtype: int64"
      ]
     },
     "execution_count": 7,
     "metadata": {},
     "output_type": "execute_result"
    }
   ],
   "source": [
    "df_test.isnull().sum()"
   ]
  },
  {
   "cell_type": "code",
   "execution_count": 8,
   "id": "dd56c6ba",
   "metadata": {
    "execution": {
     "iopub.execute_input": "2023-10-22T08:18:13.522569Z",
     "iopub.status.busy": "2023-10-22T08:18:13.522230Z",
     "iopub.status.idle": "2023-10-22T08:18:13.997494Z",
     "shell.execute_reply": "2023-10-22T08:18:13.996366Z"
    },
    "id": "_7o_nZmwoZQf",
    "outputId": "64d9c9ef-1f1d-45a9-91ad-e070f5e8980e",
    "papermill": {
     "duration": 0.48964,
     "end_time": "2023-10-22T08:18:13.999931",
     "exception": false,
     "start_time": "2023-10-22T08:18:13.510291",
     "status": "completed"
    },
    "tags": []
   },
   "outputs": [
    {
     "data": {
      "text/html": [
       "<div>\n",
       "<style scoped>\n",
       "    .dataframe tbody tr th:only-of-type {\n",
       "        vertical-align: middle;\n",
       "    }\n",
       "\n",
       "    .dataframe tbody tr th {\n",
       "        vertical-align: top;\n",
       "    }\n",
       "\n",
       "    .dataframe thead th {\n",
       "        text-align: right;\n",
       "    }\n",
       "</style>\n",
       "<table border=\"1\" class=\"dataframe\">\n",
       "  <thead>\n",
       "    <tr style=\"text-align: right;\">\n",
       "      <th></th>\n",
       "      <th>Unnamed: 0</th>\n",
       "      <th>cc_num</th>\n",
       "      <th>amt</th>\n",
       "      <th>zip</th>\n",
       "      <th>lat</th>\n",
       "      <th>long</th>\n",
       "      <th>city_pop</th>\n",
       "      <th>unix_time</th>\n",
       "      <th>merch_lat</th>\n",
       "      <th>merch_long</th>\n",
       "      <th>is_fraud</th>\n",
       "    </tr>\n",
       "  </thead>\n",
       "  <tbody>\n",
       "    <tr>\n",
       "      <th>count</th>\n",
       "      <td>1.296675e+06</td>\n",
       "      <td>1.296675e+06</td>\n",
       "      <td>1.296675e+06</td>\n",
       "      <td>1.296675e+06</td>\n",
       "      <td>1.296675e+06</td>\n",
       "      <td>1.296675e+06</td>\n",
       "      <td>1.296675e+06</td>\n",
       "      <td>1.296675e+06</td>\n",
       "      <td>1.296675e+06</td>\n",
       "      <td>1.296675e+06</td>\n",
       "      <td>1.296675e+06</td>\n",
       "    </tr>\n",
       "    <tr>\n",
       "      <th>mean</th>\n",
       "      <td>6.483370e+05</td>\n",
       "      <td>4.171920e+17</td>\n",
       "      <td>7.035104e+01</td>\n",
       "      <td>4.880067e+04</td>\n",
       "      <td>3.853762e+01</td>\n",
       "      <td>-9.022634e+01</td>\n",
       "      <td>8.882444e+04</td>\n",
       "      <td>1.349244e+09</td>\n",
       "      <td>3.853734e+01</td>\n",
       "      <td>-9.022646e+01</td>\n",
       "      <td>5.788652e-03</td>\n",
       "    </tr>\n",
       "    <tr>\n",
       "      <th>std</th>\n",
       "      <td>3.743180e+05</td>\n",
       "      <td>1.308806e+18</td>\n",
       "      <td>1.603160e+02</td>\n",
       "      <td>2.689322e+04</td>\n",
       "      <td>5.075808e+00</td>\n",
       "      <td>1.375908e+01</td>\n",
       "      <td>3.019564e+05</td>\n",
       "      <td>1.284128e+07</td>\n",
       "      <td>5.109788e+00</td>\n",
       "      <td>1.377109e+01</td>\n",
       "      <td>7.586269e-02</td>\n",
       "    </tr>\n",
       "    <tr>\n",
       "      <th>min</th>\n",
       "      <td>0.000000e+00</td>\n",
       "      <td>6.041621e+10</td>\n",
       "      <td>1.000000e+00</td>\n",
       "      <td>1.257000e+03</td>\n",
       "      <td>2.002710e+01</td>\n",
       "      <td>-1.656723e+02</td>\n",
       "      <td>2.300000e+01</td>\n",
       "      <td>1.325376e+09</td>\n",
       "      <td>1.902779e+01</td>\n",
       "      <td>-1.666712e+02</td>\n",
       "      <td>0.000000e+00</td>\n",
       "    </tr>\n",
       "    <tr>\n",
       "      <th>25%</th>\n",
       "      <td>3.241685e+05</td>\n",
       "      <td>1.800429e+14</td>\n",
       "      <td>9.650000e+00</td>\n",
       "      <td>2.623700e+04</td>\n",
       "      <td>3.462050e+01</td>\n",
       "      <td>-9.679800e+01</td>\n",
       "      <td>7.430000e+02</td>\n",
       "      <td>1.338751e+09</td>\n",
       "      <td>3.473357e+01</td>\n",
       "      <td>-9.689728e+01</td>\n",
       "      <td>0.000000e+00</td>\n",
       "    </tr>\n",
       "    <tr>\n",
       "      <th>50%</th>\n",
       "      <td>6.483370e+05</td>\n",
       "      <td>3.521417e+15</td>\n",
       "      <td>4.752000e+01</td>\n",
       "      <td>4.817400e+04</td>\n",
       "      <td>3.935430e+01</td>\n",
       "      <td>-8.747690e+01</td>\n",
       "      <td>2.456000e+03</td>\n",
       "      <td>1.349250e+09</td>\n",
       "      <td>3.936568e+01</td>\n",
       "      <td>-8.743839e+01</td>\n",
       "      <td>0.000000e+00</td>\n",
       "    </tr>\n",
       "    <tr>\n",
       "      <th>75%</th>\n",
       "      <td>9.725055e+05</td>\n",
       "      <td>4.642255e+15</td>\n",
       "      <td>8.314000e+01</td>\n",
       "      <td>7.204200e+04</td>\n",
       "      <td>4.194040e+01</td>\n",
       "      <td>-8.015800e+01</td>\n",
       "      <td>2.032800e+04</td>\n",
       "      <td>1.359385e+09</td>\n",
       "      <td>4.195716e+01</td>\n",
       "      <td>-8.023680e+01</td>\n",
       "      <td>0.000000e+00</td>\n",
       "    </tr>\n",
       "    <tr>\n",
       "      <th>max</th>\n",
       "      <td>1.296674e+06</td>\n",
       "      <td>4.992346e+18</td>\n",
       "      <td>2.894890e+04</td>\n",
       "      <td>9.978300e+04</td>\n",
       "      <td>6.669330e+01</td>\n",
       "      <td>-6.795030e+01</td>\n",
       "      <td>2.906700e+06</td>\n",
       "      <td>1.371817e+09</td>\n",
       "      <td>6.751027e+01</td>\n",
       "      <td>-6.695090e+01</td>\n",
       "      <td>1.000000e+00</td>\n",
       "    </tr>\n",
       "  </tbody>\n",
       "</table>\n",
       "</div>"
      ],
      "text/plain": [
       "         Unnamed: 0        cc_num           amt           zip           lat  \\\n",
       "count  1.296675e+06  1.296675e+06  1.296675e+06  1.296675e+06  1.296675e+06   \n",
       "mean   6.483370e+05  4.171920e+17  7.035104e+01  4.880067e+04  3.853762e+01   \n",
       "std    3.743180e+05  1.308806e+18  1.603160e+02  2.689322e+04  5.075808e+00   \n",
       "min    0.000000e+00  6.041621e+10  1.000000e+00  1.257000e+03  2.002710e+01   \n",
       "25%    3.241685e+05  1.800429e+14  9.650000e+00  2.623700e+04  3.462050e+01   \n",
       "50%    6.483370e+05  3.521417e+15  4.752000e+01  4.817400e+04  3.935430e+01   \n",
       "75%    9.725055e+05  4.642255e+15  8.314000e+01  7.204200e+04  4.194040e+01   \n",
       "max    1.296674e+06  4.992346e+18  2.894890e+04  9.978300e+04  6.669330e+01   \n",
       "\n",
       "               long      city_pop     unix_time     merch_lat    merch_long  \\\n",
       "count  1.296675e+06  1.296675e+06  1.296675e+06  1.296675e+06  1.296675e+06   \n",
       "mean  -9.022634e+01  8.882444e+04  1.349244e+09  3.853734e+01 -9.022646e+01   \n",
       "std    1.375908e+01  3.019564e+05  1.284128e+07  5.109788e+00  1.377109e+01   \n",
       "min   -1.656723e+02  2.300000e+01  1.325376e+09  1.902779e+01 -1.666712e+02   \n",
       "25%   -9.679800e+01  7.430000e+02  1.338751e+09  3.473357e+01 -9.689728e+01   \n",
       "50%   -8.747690e+01  2.456000e+03  1.349250e+09  3.936568e+01 -8.743839e+01   \n",
       "75%   -8.015800e+01  2.032800e+04  1.359385e+09  4.195716e+01 -8.023680e+01   \n",
       "max   -6.795030e+01  2.906700e+06  1.371817e+09  6.751027e+01 -6.695090e+01   \n",
       "\n",
       "           is_fraud  \n",
       "count  1.296675e+06  \n",
       "mean   5.788652e-03  \n",
       "std    7.586269e-02  \n",
       "min    0.000000e+00  \n",
       "25%    0.000000e+00  \n",
       "50%    0.000000e+00  \n",
       "75%    0.000000e+00  \n",
       "max    1.000000e+00  "
      ]
     },
     "execution_count": 8,
     "metadata": {},
     "output_type": "execute_result"
    }
   ],
   "source": [
    "df_train.describe()"
   ]
  },
  {
   "cell_type": "code",
   "execution_count": 9,
   "id": "8ceed557",
   "metadata": {
    "execution": {
     "iopub.execute_input": "2023-10-22T08:18:14.024959Z",
     "iopub.status.busy": "2023-10-22T08:18:14.024324Z",
     "iopub.status.idle": "2023-10-22T08:18:14.490158Z",
     "shell.execute_reply": "2023-10-22T08:18:14.489178Z"
    },
    "id": "S35TVNdvvVyA",
    "outputId": "cca4b5fd-eea0-4047-d34b-ba2d7b018482",
    "papermill": {
     "duration": 0.480422,
     "end_time": "2023-10-22T08:18:14.492257",
     "exception": false,
     "start_time": "2023-10-22T08:18:14.011835",
     "status": "completed"
    },
    "tags": []
   },
   "outputs": [
    {
     "data": {
      "text/html": [
       "<div>\n",
       "<style scoped>\n",
       "    .dataframe tbody tr th:only-of-type {\n",
       "        vertical-align: middle;\n",
       "    }\n",
       "\n",
       "    .dataframe tbody tr th {\n",
       "        vertical-align: top;\n",
       "    }\n",
       "\n",
       "    .dataframe thead th {\n",
       "        text-align: right;\n",
       "    }\n",
       "</style>\n",
       "<table border=\"1\" class=\"dataframe\">\n",
       "  <thead>\n",
       "    <tr style=\"text-align: right;\">\n",
       "      <th></th>\n",
       "      <th>Unnamed: 0</th>\n",
       "      <th>cc_num</th>\n",
       "      <th>amt</th>\n",
       "      <th>zip</th>\n",
       "      <th>lat</th>\n",
       "      <th>long</th>\n",
       "      <th>city_pop</th>\n",
       "      <th>unix_time</th>\n",
       "      <th>merch_lat</th>\n",
       "      <th>merch_long</th>\n",
       "      <th>is_fraud</th>\n",
       "    </tr>\n",
       "  </thead>\n",
       "  <tbody>\n",
       "    <tr>\n",
       "      <th>count</th>\n",
       "      <td>1.296675e+06</td>\n",
       "      <td>1.296675e+06</td>\n",
       "      <td>1.296675e+06</td>\n",
       "      <td>1.296675e+06</td>\n",
       "      <td>1.296675e+06</td>\n",
       "      <td>1.296675e+06</td>\n",
       "      <td>1.296675e+06</td>\n",
       "      <td>1.296675e+06</td>\n",
       "      <td>1.296675e+06</td>\n",
       "      <td>1.296675e+06</td>\n",
       "      <td>1.296675e+06</td>\n",
       "    </tr>\n",
       "    <tr>\n",
       "      <th>mean</th>\n",
       "      <td>6.483370e+05</td>\n",
       "      <td>4.171920e+17</td>\n",
       "      <td>7.035104e+01</td>\n",
       "      <td>4.880067e+04</td>\n",
       "      <td>3.853762e+01</td>\n",
       "      <td>-9.022634e+01</td>\n",
       "      <td>8.882444e+04</td>\n",
       "      <td>1.349244e+09</td>\n",
       "      <td>3.853734e+01</td>\n",
       "      <td>-9.022646e+01</td>\n",
       "      <td>5.788652e-03</td>\n",
       "    </tr>\n",
       "    <tr>\n",
       "      <th>std</th>\n",
       "      <td>3.743180e+05</td>\n",
       "      <td>1.308806e+18</td>\n",
       "      <td>1.603160e+02</td>\n",
       "      <td>2.689322e+04</td>\n",
       "      <td>5.075808e+00</td>\n",
       "      <td>1.375908e+01</td>\n",
       "      <td>3.019564e+05</td>\n",
       "      <td>1.284128e+07</td>\n",
       "      <td>5.109788e+00</td>\n",
       "      <td>1.377109e+01</td>\n",
       "      <td>7.586269e-02</td>\n",
       "    </tr>\n",
       "    <tr>\n",
       "      <th>min</th>\n",
       "      <td>0.000000e+00</td>\n",
       "      <td>6.041621e+10</td>\n",
       "      <td>1.000000e+00</td>\n",
       "      <td>1.257000e+03</td>\n",
       "      <td>2.002710e+01</td>\n",
       "      <td>-1.656723e+02</td>\n",
       "      <td>2.300000e+01</td>\n",
       "      <td>1.325376e+09</td>\n",
       "      <td>1.902779e+01</td>\n",
       "      <td>-1.666712e+02</td>\n",
       "      <td>0.000000e+00</td>\n",
       "    </tr>\n",
       "    <tr>\n",
       "      <th>25%</th>\n",
       "      <td>3.241685e+05</td>\n",
       "      <td>1.800429e+14</td>\n",
       "      <td>9.650000e+00</td>\n",
       "      <td>2.623700e+04</td>\n",
       "      <td>3.462050e+01</td>\n",
       "      <td>-9.679800e+01</td>\n",
       "      <td>7.430000e+02</td>\n",
       "      <td>1.338751e+09</td>\n",
       "      <td>3.473357e+01</td>\n",
       "      <td>-9.689728e+01</td>\n",
       "      <td>0.000000e+00</td>\n",
       "    </tr>\n",
       "    <tr>\n",
       "      <th>50%</th>\n",
       "      <td>6.483370e+05</td>\n",
       "      <td>3.521417e+15</td>\n",
       "      <td>4.752000e+01</td>\n",
       "      <td>4.817400e+04</td>\n",
       "      <td>3.935430e+01</td>\n",
       "      <td>-8.747690e+01</td>\n",
       "      <td>2.456000e+03</td>\n",
       "      <td>1.349250e+09</td>\n",
       "      <td>3.936568e+01</td>\n",
       "      <td>-8.743839e+01</td>\n",
       "      <td>0.000000e+00</td>\n",
       "    </tr>\n",
       "    <tr>\n",
       "      <th>75%</th>\n",
       "      <td>9.725055e+05</td>\n",
       "      <td>4.642255e+15</td>\n",
       "      <td>8.314000e+01</td>\n",
       "      <td>7.204200e+04</td>\n",
       "      <td>4.194040e+01</td>\n",
       "      <td>-8.015800e+01</td>\n",
       "      <td>2.032800e+04</td>\n",
       "      <td>1.359385e+09</td>\n",
       "      <td>4.195716e+01</td>\n",
       "      <td>-8.023680e+01</td>\n",
       "      <td>0.000000e+00</td>\n",
       "    </tr>\n",
       "    <tr>\n",
       "      <th>max</th>\n",
       "      <td>1.296674e+06</td>\n",
       "      <td>4.992346e+18</td>\n",
       "      <td>2.894890e+04</td>\n",
       "      <td>9.978300e+04</td>\n",
       "      <td>6.669330e+01</td>\n",
       "      <td>-6.795030e+01</td>\n",
       "      <td>2.906700e+06</td>\n",
       "      <td>1.371817e+09</td>\n",
       "      <td>6.751027e+01</td>\n",
       "      <td>-6.695090e+01</td>\n",
       "      <td>1.000000e+00</td>\n",
       "    </tr>\n",
       "  </tbody>\n",
       "</table>\n",
       "</div>"
      ],
      "text/plain": [
       "         Unnamed: 0        cc_num           amt           zip           lat  \\\n",
       "count  1.296675e+06  1.296675e+06  1.296675e+06  1.296675e+06  1.296675e+06   \n",
       "mean   6.483370e+05  4.171920e+17  7.035104e+01  4.880067e+04  3.853762e+01   \n",
       "std    3.743180e+05  1.308806e+18  1.603160e+02  2.689322e+04  5.075808e+00   \n",
       "min    0.000000e+00  6.041621e+10  1.000000e+00  1.257000e+03  2.002710e+01   \n",
       "25%    3.241685e+05  1.800429e+14  9.650000e+00  2.623700e+04  3.462050e+01   \n",
       "50%    6.483370e+05  3.521417e+15  4.752000e+01  4.817400e+04  3.935430e+01   \n",
       "75%    9.725055e+05  4.642255e+15  8.314000e+01  7.204200e+04  4.194040e+01   \n",
       "max    1.296674e+06  4.992346e+18  2.894890e+04  9.978300e+04  6.669330e+01   \n",
       "\n",
       "               long      city_pop     unix_time     merch_lat    merch_long  \\\n",
       "count  1.296675e+06  1.296675e+06  1.296675e+06  1.296675e+06  1.296675e+06   \n",
       "mean  -9.022634e+01  8.882444e+04  1.349244e+09  3.853734e+01 -9.022646e+01   \n",
       "std    1.375908e+01  3.019564e+05  1.284128e+07  5.109788e+00  1.377109e+01   \n",
       "min   -1.656723e+02  2.300000e+01  1.325376e+09  1.902779e+01 -1.666712e+02   \n",
       "25%   -9.679800e+01  7.430000e+02  1.338751e+09  3.473357e+01 -9.689728e+01   \n",
       "50%   -8.747690e+01  2.456000e+03  1.349250e+09  3.936568e+01 -8.743839e+01   \n",
       "75%   -8.015800e+01  2.032800e+04  1.359385e+09  4.195716e+01 -8.023680e+01   \n",
       "max   -6.795030e+01  2.906700e+06  1.371817e+09  6.751027e+01 -6.695090e+01   \n",
       "\n",
       "           is_fraud  \n",
       "count  1.296675e+06  \n",
       "mean   5.788652e-03  \n",
       "std    7.586269e-02  \n",
       "min    0.000000e+00  \n",
       "25%    0.000000e+00  \n",
       "50%    0.000000e+00  \n",
       "75%    0.000000e+00  \n",
       "max    1.000000e+00  "
      ]
     },
     "execution_count": 9,
     "metadata": {},
     "output_type": "execute_result"
    }
   ],
   "source": [
    "df_test.describe()"
   ]
  },
  {
   "cell_type": "code",
   "execution_count": 10,
   "id": "c6e28054",
   "metadata": {
    "execution": {
     "iopub.execute_input": "2023-10-22T08:18:14.516997Z",
     "iopub.status.busy": "2023-10-22T08:18:14.516510Z",
     "iopub.status.idle": "2023-10-22T08:18:14.534267Z",
     "shell.execute_reply": "2023-10-22T08:18:14.533435Z"
    },
    "id": "njV7TGeZwSeL",
    "outputId": "cd92b4da-ccc4-4611-cf90-2f95fe1a422d",
    "papermill": {
     "duration": 0.031858,
     "end_time": "2023-10-22T08:18:14.536092",
     "exception": false,
     "start_time": "2023-10-22T08:18:14.504234",
     "status": "completed"
    },
    "tags": []
   },
   "outputs": [
    {
     "data": {
      "text/plain": [
       "is_fraud\n",
       "0    1289169\n",
       "1       7506\n",
       "Name: count, dtype: int64"
      ]
     },
     "execution_count": 10,
     "metadata": {},
     "output_type": "execute_result"
    }
   ],
   "source": [
    "df_train[\"is_fraud\"].value_counts()"
   ]
  },
  {
   "cell_type": "code",
   "execution_count": 11,
   "id": "2c3dddce",
   "metadata": {
    "execution": {
     "iopub.execute_input": "2023-10-22T08:18:14.560536Z",
     "iopub.status.busy": "2023-10-22T08:18:14.560001Z",
     "iopub.status.idle": "2023-10-22T08:18:14.577570Z",
     "shell.execute_reply": "2023-10-22T08:18:14.576524Z"
    },
    "id": "WabcuPolwqA-",
    "outputId": "ab281984-d820-4841-bcca-ed4ef70b53cc",
    "papermill": {
     "duration": 0.031721,
     "end_time": "2023-10-22T08:18:14.579498",
     "exception": false,
     "start_time": "2023-10-22T08:18:14.547777",
     "status": "completed"
    },
    "tags": []
   },
   "outputs": [
    {
     "data": {
      "text/plain": [
       "is_fraud\n",
       "0    1289169\n",
       "1       7506\n",
       "Name: count, dtype: int64"
      ]
     },
     "execution_count": 11,
     "metadata": {},
     "output_type": "execute_result"
    }
   ],
   "source": [
    "df_test[\"is_fraud\"].value_counts()"
   ]
  },
  {
   "cell_type": "code",
   "execution_count": 12,
   "id": "ec088ad3",
   "metadata": {
    "execution": {
     "iopub.execute_input": "2023-10-22T08:18:14.603284Z",
     "iopub.status.busy": "2023-10-22T08:18:14.603044Z",
     "iopub.status.idle": "2023-10-22T08:18:25.110109Z",
     "shell.execute_reply": "2023-10-22T08:18:25.108928Z"
    },
    "id": "n851Pdo4w39A",
    "outputId": "5e2ef53f-390e-4066-8a6a-093c5416f7f5",
    "papermill": {
     "duration": 10.523755,
     "end_time": "2023-10-22T08:18:25.114664",
     "exception": false,
     "start_time": "2023-10-22T08:18:14.590909",
     "status": "completed"
    },
    "tags": []
   },
   "outputs": [
    {
     "data": {
      "text/plain": [
       "<Axes: >"
      ]
     },
     "execution_count": 12,
     "metadata": {},
     "output_type": "execute_result"
    },
    {
     "data": {
      "image/png": "[encoded data removed]",
      "text/plain": [
       "<Figure size 2500x1000 with 2 Axes>"
      ]
     },
     "metadata": {},
     "output_type": "display_data"
    }
   ],
   "source": [
    "\n",
    "msno.matrix(df_train)"
   ]
  },
  {
   "cell_type": "code",
   "execution_count": 13,
   "id": "1819be7d",
   "metadata": {
    "execution": {
     "iopub.execute_input": "2023-10-22T08:18:25.143768Z",
     "iopub.status.busy": "2023-10-22T08:18:25.142994Z",
     "iopub.status.idle": "2023-10-22T08:18:25.197921Z",
     "shell.execute_reply": "2023-10-22T08:18:25.196862Z"
    },
    "id": "BeNY5rFyS9jG",
    "outputId": "b0504a54-70ec-4bcb-91b0-a3ba1f26dad5",
    "papermill": {
     "duration": 0.071237,
     "end_time": "2023-10-22T08:18:25.199964",
     "exception": false,
     "start_time": "2023-10-22T08:18:25.128727",
     "status": "completed"
    },
    "tags": []
   },
   "outputs": [
    {
     "data": {
      "text/plain": [
       "count    1.296675e+06\n",
       "mean     7.035104e+01\n",
       "std      1.603160e+02\n",
       "min      1.000000e+00\n",
       "25%      9.650000e+00\n",
       "50%      4.752000e+01\n",
       "75%      8.314000e+01\n",
       "max      2.894890e+04\n",
       "Name: amt, dtype: float64"
      ]
     },
     "execution_count": 13,
     "metadata": {},
     "output_type": "execute_result"
    }
   ],
   "source": [
    "df_train[\"amt\"].describe()"
   ]
  },
  {
   "cell_type": "code",
   "execution_count": 14,
   "id": "6dcb8ab6",
   "metadata": {
    "execution": {
     "iopub.execute_input": "2023-10-22T08:18:25.227653Z",
     "iopub.status.busy": "2023-10-22T08:18:25.227323Z",
     "iopub.status.idle": "2023-10-22T08:18:25.416071Z",
     "shell.execute_reply": "2023-10-22T08:18:25.414844Z"
    },
    "id": "6bSslkiqs0tQ",
    "outputId": "c8975953-6c28-4b42-a3bf-1b33eb773601",
    "papermill": {
     "duration": 0.206579,
     "end_time": "2023-10-22T08:18:25.419719",
     "exception": false,
     "start_time": "2023-10-22T08:18:25.213140",
     "status": "completed"
    },
    "tags": []
   },
   "outputs": [
    {
     "data": {
      "image/png": "[encoded data removed]",
      "text/plain": [
       "<Figure size 960x480 with 1 Axes>"
      ]
     },
     "metadata": {},
     "output_type": "display_data"
    }
   ],
   "source": [
    "donut = df_train[\"is_fraud\"].value_counts().reset_index()\n",
    "\n",
    "labels = [\"No\", \"Yes\"]\n",
    "explode = (0, 0)\n",
    "\n",
    "fig, ax = plt.subplots(dpi=120, figsize=(8, 4))\n",
    "plt.pie(donut[\"is_fraud\"],\n",
    "        labels=donut[\"is_fraud\"],\n",
    "        autopct=\"%1.1f%%\",\n",
    "        pctdistance=0.8,\n",
    "        explode=explode)\n",
    "\n",
    "centre_circle = plt.Circle((0.0, 0.0), 0.5, fc='white')\n",
    "fig = plt.gcf()\n",
    "fig.gca().add_artist(centre_circle)\n",
    "\n",
    "plt.title(\"Fraud proportion in Transactions\")\n",
    "plt.legend(labels, loc=\"center\", frameon=False)\n",
    "plt.show();"
   ]
  },
  {
   "cell_type": "code",
   "execution_count": 15,
   "id": "9b02de34",
   "metadata": {
    "execution": {
     "iopub.execute_input": "2023-10-22T08:18:25.482614Z",
     "iopub.status.busy": "2023-10-22T08:18:25.482268Z",
     "iopub.status.idle": "2023-10-22T08:18:27.039937Z",
     "shell.execute_reply": "2023-10-22T08:18:27.039039Z"
    },
    "id": "KZG14K19-Mj2",
    "outputId": "a262fdcd-6670-4b24-99da-f20382ec6f73",
    "papermill": {
     "duration": 1.59038,
     "end_time": "2023-10-22T08:18:27.041936",
     "exception": false,
     "start_time": "2023-10-22T08:18:25.451556",
     "status": "completed"
    },
    "tags": []
   },
   "outputs": [
    {
     "data": {
      "image/png": "[encoded data removed]",
      "text/plain": [
       "<Figure size 640x480 with 1 Axes>"
      ]
     },
     "metadata": {},
     "output_type": "display_data"
    }
   ],
   "source": [
    "\n",
    "sns.countplot(x=\"category\",data=df_train)\n",
    "plt.title(\"category distribution\")\n",
    "plt.xticks(rotation=90)\n",
    "plt.show()\n"
   ]
  },
  {
   "cell_type": "code",
   "execution_count": 16,
   "id": "df039766",
   "metadata": {
    "execution": {
     "iopub.execute_input": "2023-10-22T08:18:27.071576Z",
     "iopub.status.busy": "2023-10-22T08:18:27.070932Z",
     "iopub.status.idle": "2023-10-22T08:18:27.490313Z",
     "shell.execute_reply": "2023-10-22T08:18:27.489452Z"
    },
    "id": "yyf_F2c0-TSC",
    "outputId": "c247047a-5cce-4526-a31b-c8b850fdf072",
    "papermill": {
     "duration": 0.436617,
     "end_time": "2023-10-22T08:18:27.492661",
     "exception": false,
     "start_time": "2023-10-22T08:18:27.056044",
     "status": "completed"
    },
    "tags": []
   },
   "outputs": [
    {
     "data": {
      "image/png": "[encoded data removed]",
      "text/plain": [
       "<Figure size 1000x500 with 1 Axes>"
      ]
     },
     "metadata": {},
     "output_type": "display_data"
    }
   ],
   "source": [
    "plt.figure(figsize=(10,5))\n",
    "# Group by \"TransactionType\" and calculate the mean of \"isFraud\"\n",
    "fraud_percentage_by_category = df_train.groupby('category')['is_fraud'].mean() * 100\n",
    "# Create a bar plot\n",
    "plt.bar(fraud_percentage_by_category.index, fraud_percentage_by_category.values)\n",
    "# Adding labels and title\n",
    "plt.xlabel('Transaction category ')\n",
    "plt.ylabel('Fraud Percentage category')\n",
    "plt.title('Fraud Percentage by category')\n",
    "\n",
    "# Rotate x labels for better readability\n",
    "plt.xticks(rotation=45)\n",
    "\n",
    "plt.show()\n"
   ]
  },
  {
   "cell_type": "code",
   "execution_count": 17,
   "id": "7295c8a8",
   "metadata": {
    "execution": {
     "iopub.execute_input": "2023-10-22T08:18:27.524023Z",
     "iopub.status.busy": "2023-10-22T08:18:27.523726Z",
     "iopub.status.idle": "2023-10-22T08:18:33.463853Z",
     "shell.execute_reply": "2023-10-22T08:18:33.462933Z"
    },
    "id": "GlRNRSLAs09L",
    "outputId": "940ce86a-d0c6-4592-b37a-78d7a21d343a",
    "papermill": {
     "duration": 5.958336,
     "end_time": "2023-10-22T08:18:33.466130",
     "exception": false,
     "start_time": "2023-10-22T08:18:27.507794",
     "status": "completed"
    },
    "tags": []
   },
   "outputs": [
    {
     "data": {
      "image/png": "[encoded data removed]",
      "text/plain": [
       "<Figure size 640x480 with 1 Axes>"
      ]
     },
     "metadata": {},
     "output_type": "display_data"
    }
   ],
   "source": [
    "df_train['age'] = dt.date.today().year-pd.to_datetime(df_train['dob']).dt.year\n",
    "ax = sns.kdeplot(x='age', data=df_train, hue='is_fraud', common_norm=False)\n",
    "ax.set_xlabel('Credit Card Holder Age')\n",
    "ax.set_ylabel('Density')\n",
    "plt.xticks(np.arange(0, 110, 10))\n",
    "plt.title('Age Distribution')\n",
    "plt.legend(title='Type', labels=['Fraud', 'Not Fraud']);"
   ]
  },
  {
   "cell_type": "code",
   "execution_count": 18,
   "id": "76f16174",
   "metadata": {
    "execution": {
     "iopub.execute_input": "2023-10-22T08:18:33.497497Z",
     "iopub.status.busy": "2023-10-22T08:18:33.497164Z",
     "iopub.status.idle": "2023-10-22T08:18:35.674501Z",
     "shell.execute_reply": "2023-10-22T08:18:35.673564Z"
    },
    "id": "GrZZK3vsvI1U",
    "outputId": "2e916b17-d832-43d5-c997-bb0f7fb5fed1",
    "papermill": {
     "duration": 2.19526,
     "end_time": "2023-10-22T08:18:35.676728",
     "exception": false,
     "start_time": "2023-10-22T08:18:33.481468",
     "status": "completed"
    },
    "tags": []
   },
   "outputs": [
    {
     "data": {
      "image/png": "[encoded data removed]",
      "text/plain": [
       "<Figure size 1300x600 with 2 Axes>"
      ]
     },
     "metadata": {},
     "output_type": "display_data"
    }
   ],
   "source": [
    "df_train['hour'] = pd.to_datetime(df_train['trans_date_trans_time']).dt.hour\n",
    "f, (ax1, ax2) = plt.subplots(1, 2, figsize=(13, 6), sharey=True)\n",
    "ax1 = sns.histplot(x='hour', data=df_train[df_train[\"is_fraud\"] == 0],\n",
    "                   stat=\"density\", bins=24, ax=ax1)\n",
    "ax2 = sns.histplot(x='hour', data=df_train[df_train[\"is_fraud\"] == 1],\n",
    "                   stat=\"density\", bins=24, ax=ax2, color=\"blue\")\n",
    "ax1.set_title(\"Normal\")\n",
    "ax2.set_title(\"Fraud\")\n",
    "ax1.set_xticks(np.arange(1, 24))\n",
    "ax2.set_xticks(np.arange(1, 24));"
   ]
  },
  {
   "cell_type": "code",
   "execution_count": 19,
   "id": "99020e89",
   "metadata": {
    "execution": {
     "iopub.execute_input": "2023-10-22T08:18:35.711595Z",
     "iopub.status.busy": "2023-10-22T08:18:35.711271Z",
     "iopub.status.idle": "2023-10-22T08:18:37.724966Z",
     "shell.execute_reply": "2023-10-22T08:18:37.724056Z"
    },
    "id": "FNR-QUpxvPPT",
    "outputId": "80bad8fb-5aa9-4998-9790-faaff3973899",
    "papermill": {
     "duration": 2.033231,
     "end_time": "2023-10-22T08:18:37.727057",
     "exception": false,
     "start_time": "2023-10-22T08:18:35.693826",
     "status": "completed"
    },
    "tags": []
   },
   "outputs": [
    {
     "data": {
      "image/png": "[encoded data removed]",
      "text/plain": [
       "<Figure size 1300x600 with 2 Axes>"
      ]
     },
     "metadata": {},
     "output_type": "display_data"
    }
   ],
   "source": [
    "df_train['month'] = pd.to_datetime(df_train['trans_date_trans_time']).dt.month\n",
    "f, (ax1, ax2) = plt.subplots(1, 2, figsize=(13, 6), sharey=True)\n",
    "ax1 = sns.histplot(x='month', data=df_train[df_train[\"is_fraud\"] == 0],\n",
    "                   stat=\"density\", bins=12, ax=ax1)\n",
    "ax2 = sns.histplot(x='month', data=df_train[df_train[\"is_fraud\"] == 1],\n",
    "                   stat=\"density\", bins=12, ax=ax2, color=\"blue\")\n",
    "ax1.set_title(\"Normal\")\n",
    "ax2.set_title(\"Fraud\")\n",
    "ax1.set_xticks(np.arange(1, 13))\n",
    "ax2.set_xticks(np.arange(1, 13));"
   ]
  },
  {
   "cell_type": "markdown",
   "id": "3191af45",
   "metadata": {
    "id": "W_jD-Oxv6npN",
    "papermill": {
     "duration": 0.01548,
     "end_time": "2023-10-22T08:18:37.758501",
     "exception": false,
     "start_time": "2023-10-22T08:18:37.743021",
     "status": "completed"
    },
    "tags": []
   },
   "source": [
    "# Feature engineering"
   ]
  },
  {
   "cell_type": "code",
   "execution_count": 20,
   "id": "8fe56d02",
   "metadata": {
    "execution": {
     "iopub.execute_input": "2023-10-22T08:18:37.791219Z",
     "iopub.status.busy": "2023-10-22T08:18:37.790931Z",
     "iopub.status.idle": "2023-10-22T08:18:38.047340Z",
     "shell.execute_reply": "2023-10-22T08:18:38.046317Z"
    },
    "id": "Yry59QCEr9hQ",
    "outputId": "4a695b75-3eb4-4e1c-e878-0237957c0add",
    "papermill": {
     "duration": 0.275489,
     "end_time": "2023-10-22T08:18:38.049706",
     "exception": false,
     "start_time": "2023-10-22T08:18:37.774217",
     "status": "completed"
    },
    "tags": []
   },
   "outputs": [
    {
     "name": "stdout",
     "output_type": "stream",
     "text": [
      "(1296675, 17)\n",
      "(1296675, 17)\n"
     ]
    }
   ],
   "source": [
    "df_train.drop(columns=[\"merchant\", \"first\", \"last\", \"street\",\"unix_time\", \"trans_num\",\"month\",\"age\",\"hour\"], inplace=True)\n",
    "df_test.drop(columns=[\"merchant\", \"first\", \"last\", \"street\",\"unix_time\", \"trans_num\"], inplace=True)\n",
    "print(df_train.shape)\n",
    "print(df_test.shape)"
   ]
  },
  {
   "cell_type": "code",
   "execution_count": 21,
   "id": "e6109bcd",
   "metadata": {
    "execution": {
     "iopub.execute_input": "2023-10-22T08:18:38.085042Z",
     "iopub.status.busy": "2023-10-22T08:18:38.084762Z",
     "iopub.status.idle": "2023-10-22T08:18:39.205962Z",
     "shell.execute_reply": "2023-10-22T08:18:39.204789Z"
    },
    "id": "PRA6lQXK95wz",
    "outputId": "5a172341-90d5-4501-a926-e25235f8d0e6",
    "papermill": {
     "duration": 1.140774,
     "end_time": "2023-10-22T08:18:39.208625",
     "exception": false,
     "start_time": "2023-10-22T08:18:38.067851",
     "status": "completed"
    },
    "tags": []
   },
   "outputs": [
    {
     "name": "stdout",
     "output_type": "stream",
     "text": [
      "<class 'pandas.core.frame.DataFrame'>\n",
      "RangeIndex: 1296675 entries, 0 to 1296674\n",
      "Data columns (total 16 columns):\n",
      " #   Column                 Non-Null Count    Dtype  \n",
      "---  ------                 --------------    -----  \n",
      " 0   Unnamed: 0             1296675 non-null  int64  \n",
      " 1   trans_date_trans_time  1296675 non-null  object \n",
      " 2   cc_num                 1296675 non-null  int64  \n",
      " 3   category               1296675 non-null  object \n",
      " 4   amt                    1296675 non-null  float64\n",
      " 5   gender                 1296675 non-null  object \n",
      " 6   city                   1296675 non-null  object \n",
      " 7   state                  1296675 non-null  object \n",
      " 8   zip                    1296675 non-null  int64  \n",
      " 9   lat                    1296675 non-null  float64\n",
      " 10  long                   1296675 non-null  float64\n",
      " 11  city_pop               1296675 non-null  int64  \n",
      " 12  job                    1296675 non-null  object \n",
      " 13  dob                    1296675 non-null  object \n",
      " 14  merch_lat              1296675 non-null  float64\n",
      " 15  merch_long             1296675 non-null  float64\n",
      "dtypes: float64(5), int64(4), object(7)\n",
      "memory usage: 158.3+ MB\n",
      "(1296675, 16)\n",
      "(1296675, 16)\n"
     ]
    }
   ],
   "source": [
    "\n",
    "#training data\n",
    "x_train=df_train.drop(\"is_fraud\",axis=1)\n",
    "y_train=df_train[\"is_fraud\"]\n",
    "\n",
    "\n",
    "\n",
    "#testing data\n",
    "x_test=df_test.drop(\"is_fraud\",axis=1)\n",
    "y_test=df_test[\"is_fraud\"]\n",
    "x_train.info()\n",
    "print(x_train.shape)\n",
    "print(x_test.shape)"
   ]
  },
  {
   "cell_type": "code",
   "execution_count": null,
   "id": "65a60375",
   "metadata": {
    "id": "HIO4O8b9pnxK",
    "papermill": {
     "duration": 0.016893,
     "end_time": "2023-10-22T08:18:39.286684",
     "exception": false,
     "start_time": "2023-10-22T08:18:39.269791",
     "status": "completed"
    },
    "tags": []
   },
   "outputs": [],
   "source": []
  },
  {
   "cell_type": "markdown",
   "id": "7ee89939",
   "metadata": {
    "id": "6Mts75puMzDo",
    "papermill": {
     "duration": 0.016416,
     "end_time": "2023-10-22T08:18:39.319032",
     "exception": false,
     "start_time": "2023-10-22T08:18:39.302616",
     "status": "completed"
    },
    "tags": []
   },
   "source": [
    "**pipeline creation**"
   ]
  },
  {
   "cell_type": "code",
   "execution_count": 22,
   "id": "d6c904dc",
   "metadata": {
    "execution": {
     "iopub.execute_input": "2023-10-22T08:18:39.353675Z",
     "iopub.status.busy": "2023-10-22T08:18:39.352887Z",
     "iopub.status.idle": "2023-10-22T08:18:49.230349Z",
     "shell.execute_reply": "2023-10-22T08:18:49.229280Z"
    },
    "id": "j2-IYF9Y_pev",
    "outputId": "e8e935a1-be6a-4cad-cae2-a4119412f8e6",
    "papermill": {
     "duration": 9.897867,
     "end_time": "2023-10-22T08:18:49.232900",
     "exception": false,
     "start_time": "2023-10-22T08:18:39.335033",
     "status": "completed"
    },
    "tags": []
   },
   "outputs": [
    {
     "name": "stdout",
     "output_type": "stream",
     "text": [
      "         Unnamed: 0               cc_num     amt    zip      lat      long  \\\n",
      "0                 0     2703186189652095    4.97  28654  36.0788  -81.1781   \n",
      "1                 1         630423337322  107.23  99160  48.8878 -118.2105   \n",
      "2                 2       38859492057661  220.11  83252  42.1808 -112.2620   \n",
      "3                 3     3534093764340240   45.00  59632  46.2306 -112.1138   \n",
      "4                 4      375534208663984   41.96  24433  38.4207  -79.4629   \n",
      "...             ...                  ...     ...    ...      ...       ...   \n",
      "1296670     1296670       30263540414123   15.56  84735  37.7175 -112.4777   \n",
      "1296671     1296671     6011149206456997   51.70  21790  39.2667  -77.5101   \n",
      "1296672     1296672     3514865930894695  105.93  88325  32.9396 -105.8189   \n",
      "1296673     1296673     2720012583106919   74.90  57756  43.3526 -102.5411   \n",
      "1296674     1296674  4292902571056973207    4.30  59871  45.8433 -113.8748   \n",
      "\n",
      "         city_pop  merch_lat  merch_long  \n",
      "0            3495  36.011293  -82.048315  \n",
      "1             149  49.159047 -118.186462  \n",
      "2            4154  43.150704 -112.154481  \n",
      "3            1939  47.034331 -112.561071  \n",
      "4              99  38.674999  -78.632459  \n",
      "...           ...        ...         ...  \n",
      "1296670       258  36.841266 -111.690765  \n",
      "1296671       100  38.906881  -78.246528  \n",
      "1296672       899  33.619513 -105.130529  \n",
      "1296673      1126  42.788940 -103.241160  \n",
      "1296674       218  46.565983 -114.186110  \n",
      "\n",
      "[1296675 rows x 9 columns]\n"
     ]
    }
   ],
   "source": [
    "from sklearn.pipeline import Pipeline\n",
    "from sklearn.preprocessing import MinMaxScaler,OneHotEncoder\n",
    "\n",
    "#numerical features\n",
    "num_feats=x_train.drop([\"trans_date_trans_time\",\"category\",\"gender\",\"city\",\"state\",\"job\",\"dob\"],axis=1)\n",
    "num_feats_pipe=Pipeline([\n",
    "    (\"scalar\",MinMaxScaler())\n",
    "    ])\n",
    "num_feats_preprocessed=num_feats_pipe.fit_transform(num_feats)\n",
    "\n",
    "#catagorical features\n",
    "cat_feats=x_train[[\"trans_date_trans_time\",\"category\",\"gender\",\"city\",\"state\",\"job\",\"dob\"]]\n",
    "cat_feats_pipe=Pipeline([\n",
    "    (\"encoder\",OneHotEncoder())\n",
    "    ])\n",
    "cat_feats_preprocessed=cat_feats_pipe.fit_transform(cat_feats)\n",
    "print(num_feats)"
   ]
  },
  {
   "cell_type": "markdown",
   "id": "fe95e866",
   "metadata": {
    "id": "_fuPArqmM4GZ",
    "papermill": {
     "duration": 0.016645,
     "end_time": "2023-10-22T08:18:49.267389",
     "exception": false,
     "start_time": "2023-10-22T08:18:49.250744",
     "status": "completed"
    },
    "tags": []
   },
   "source": [
    "**final pipeline**"
   ]
  },
  {
   "cell_type": "code",
   "execution_count": 23,
   "id": "4733cd9f",
   "metadata": {
    "execution": {
     "iopub.execute_input": "2023-10-22T08:18:49.302196Z",
     "iopub.status.busy": "2023-10-22T08:18:49.301857Z",
     "iopub.status.idle": "2023-10-22T08:19:10.756768Z",
     "shell.execute_reply": "2023-10-22T08:19:10.755868Z"
    },
    "id": "zin5Q4Hdgikc",
    "outputId": "aef8202f-7b2b-4c96-b6c7-71c063a561e2",
    "papermill": {
     "duration": 21.475161,
     "end_time": "2023-10-22T08:19:10.758923",
     "exception": false,
     "start_time": "2023-10-22T08:18:49.283762",
     "status": "completed"
    },
    "tags": []
   },
   "outputs": [
    {
     "name": "stdout",
     "output_type": "stream",
     "text": [
      "         Unnamed: 0 trans_date_trans_time               cc_num       category  \\\n",
      "0                 0   2019-01-01 00:00:18     2703186189652095       misc_net   \n",
      "1                 1   2019-01-01 00:00:44         630423337322    grocery_pos   \n",
      "2                 2   2019-01-01 00:00:51       38859492057661  entertainment   \n",
      "3                 3   2019-01-01 00:01:16     3534093764340240  gas_transport   \n",
      "4                 4   2019-01-01 00:03:06      375534208663984       misc_pos   \n",
      "...             ...                   ...                  ...            ...   \n",
      "1296670     1296670   2020-06-21 12:12:08       30263540414123  entertainment   \n",
      "1296671     1296671   2020-06-21 12:12:19     6011149206456997    food_dining   \n",
      "1296672     1296672   2020-06-21 12:12:32     3514865930894695    food_dining   \n",
      "1296673     1296673   2020-06-21 12:13:36     2720012583106919    food_dining   \n",
      "1296674     1296674   2020-06-21 12:13:37  4292902571056973207    food_dining   \n",
      "\n",
      "            amt gender                      city state    zip      lat  \\\n",
      "0          4.97      F            Moravian Falls    NC  28654  36.0788   \n",
      "1        107.23      F                    Orient    WA  99160  48.8878   \n",
      "2        220.11      M                Malad City    ID  83252  42.1808   \n",
      "3         45.00      M                   Boulder    MT  59632  46.2306   \n",
      "4         41.96      M                  Doe Hill    VA  24433  38.4207   \n",
      "...         ...    ...                       ...   ...    ...      ...   \n",
      "1296670   15.56      M                     Hatch    UT  84735  37.7175   \n",
      "1296671   51.70      M                 Tuscarora    MD  21790  39.2667   \n",
      "1296672  105.93      M  High Rolls Mountain Park    NM  88325  32.9396   \n",
      "1296673   74.90      M                 Manderson    SD  57756  43.3526   \n",
      "1296674    4.30      M                      Sula    MT  59871  45.8433   \n",
      "\n",
      "             long  city_pop                                job         dob  \\\n",
      "0        -81.1781      3495          Psychologist, counselling  1988-03-09   \n",
      "1       -118.2105       149  Special educational needs teacher  1978-06-21   \n",
      "2       -112.2620      4154        Nature conservation officer  1962-01-19   \n",
      "3       -112.1138      1939                    Patent attorney  1967-01-12   \n",
      "4        -79.4629        99     Dance movement psychotherapist  1986-03-28   \n",
      "...           ...       ...                                ...         ...   \n",
      "1296670 -112.4777       258                       Geoscientist  1961-11-24   \n",
      "1296671  -77.5101       100   Production assistant, television  1979-12-11   \n",
      "1296672 -105.8189       899                    Naval architect  1967-08-30   \n",
      "1296673 -102.5411      1126              Volunteer coordinator  1980-08-18   \n",
      "1296674 -113.8748       218           Therapist, horticultural  1995-08-16   \n",
      "\n",
      "         merch_lat  merch_long  is_fraud  \n",
      "0        36.011293  -82.048315         0  \n",
      "1        49.159047 -118.186462         0  \n",
      "2        43.150704 -112.154481         0  \n",
      "3        47.034331 -112.561071         0  \n",
      "4        38.674999  -78.632459         0  \n",
      "...            ...         ...       ...  \n",
      "1296670  36.841266 -111.690765         0  \n",
      "1296671  38.906881  -78.246528         0  \n",
      "1296672  33.619513 -105.130529         0  \n",
      "1296673  42.788940 -103.241160         0  \n",
      "1296674  46.565983 -114.186110         0  \n",
      "\n",
      "[1296675 rows x 17 columns]\n"
     ]
    },
    {
     "data": {
      "text/plain": [
       "<1296675x1277223 sparse matrix of type '<class 'numpy.float64'>'\n",
       "\twith 20737890 stored elements in Compressed Sparse Row format>"
      ]
     },
     "execution_count": 23,
     "metadata": {},
     "output_type": "execute_result"
    }
   ],
   "source": [
    "\n",
    "from sklearn.compose import ColumnTransformer\n",
    "num_list=list(num_feats)\n",
    "cat_list=list(cat_feats)\n",
    "\n",
    "final_pipeline=ColumnTransformer([\n",
    "    (\"num\",num_feats_pipe,num_list),\n",
    "    (\"cat\",cat_feats_pipe,cat_list)])\n",
    "X_train_preprocessed=final_pipeline.fit_transform(x_train)\n",
    "print(df_train)\n",
    "X_train_preprocessed\n",
    "\n",
    "X_test_preprocessed = final_pipeline.fit_transform(x_test)\n",
    "X_test_preprocessed"
   ]
  },
  {
   "cell_type": "markdown",
   "id": "d72aead5",
   "metadata": {
    "id": "Wl_kAzpIhjet",
    "papermill": {
     "duration": 0.017101,
     "end_time": "2023-10-22T08:19:10.794268",
     "exception": false,
     "start_time": "2023-10-22T08:19:10.777167",
     "status": "completed"
    },
    "tags": []
   },
   "source": [
    "# Random Forest Classifier"
   ]
  },
  {
   "cell_type": "code",
   "execution_count": 24,
   "id": "a14e6d14",
   "metadata": {
    "execution": {
     "iopub.execute_input": "2023-10-22T08:19:10.830456Z",
     "iopub.status.busy": "2023-10-22T08:19:10.830106Z",
     "iopub.status.idle": "2023-10-22T10:58:05.825336Z",
     "shell.execute_reply": "2023-10-22T10:58:05.824459Z"
    },
    "id": "VOEF3x3Whh9l",
    "papermill": {
     "duration": 9535.016723,
     "end_time": "2023-10-22T10:58:05.828332",
     "exception": false,
     "start_time": "2023-10-22T08:19:10.811609",
     "status": "completed"
    },
    "tags": []
   },
   "outputs": [],
   "source": [
    "from sklearn.ensemble import RandomForestClassifier\n",
    "\n",
    "# Create a Random Forest classifier\n",
    "rf_model = RandomForestClassifier(n_estimators=50, random_state=21)\n",
    "\n",
    "# Train the model on your training data\n",
    "rf_model.fit(X_train_preprocessed,y_train)\n",
    "\n",
    "# Make predictions on your testing data\n",
    "y_test_pred_rf = rf_model.predict(X_test_preprocessed)\n",
    "\n"
   ]
  },
  {
   "cell_type": "code",
   "execution_count": 25,
   "id": "3a2a8189",
   "metadata": {
    "execution": {
     "iopub.execute_input": "2023-10-22T10:58:05.866093Z",
     "iopub.status.busy": "2023-10-22T10:58:05.865750Z",
     "iopub.status.idle": "2023-10-22T11:02:20.890190Z",
     "shell.execute_reply": "2023-10-22T11:02:20.889188Z"
    },
    "id": "oWWNSRSTh3tj",
    "papermill": {
     "duration": 255.062344,
     "end_time": "2023-10-22T11:02:20.908714",
     "exception": false,
     "start_time": "2023-10-22T10:58:05.846370",
     "status": "completed"
    },
    "tags": []
   },
   "outputs": [
    {
     "data": {
      "text/plain": [
       "array([0, 0, 0, ..., 0, 0, 0])"
      ]
     },
     "execution_count": 25,
     "metadata": {},
     "output_type": "execute_result"
    }
   ],
   "source": [
    "# Make predictions on your training data\n",
    "y_train_pred_rf = rf_model.predict(X_train_preprocessed)\n",
    "y_train_pred_rf\n",
    "y_test_pred_rf"
   ]
  },
  {
   "cell_type": "markdown",
   "id": "8754802d",
   "metadata": {
    "id": "hWTUoE3mh-sT",
    "papermill": {
     "duration": 0.020031,
     "end_time": "2023-10-22T11:02:20.945327",
     "exception": false,
     "start_time": "2023-10-22T11:02:20.925296",
     "status": "completed"
    },
    "tags": []
   },
   "source": [
    "**F1 score of train and test**"
   ]
  },
  {
   "cell_type": "code",
   "execution_count": 26,
   "id": "42820c81",
   "metadata": {
    "execution": {
     "iopub.execute_input": "2023-10-22T11:02:20.981788Z",
     "iopub.status.busy": "2023-10-22T11:02:20.980999Z",
     "iopub.status.idle": "2023-10-22T11:02:21.813823Z",
     "shell.execute_reply": "2023-10-22T11:02:21.812664Z"
    },
    "id": "BWUxMNKEiBpX",
    "papermill": {
     "duration": 0.853784,
     "end_time": "2023-10-22T11:02:21.816222",
     "exception": false,
     "start_time": "2023-10-22T11:02:20.962438",
     "status": "completed"
    },
    "tags": []
   },
   "outputs": [
    {
     "name": "stdout",
     "output_type": "stream",
     "text": [
      "F1 Score of train data: 0.9980644730694788\n",
      "F1 Score of test data: 0.9980644730694788\n"
     ]
    }
   ],
   "source": [
    "from sklearn.metrics import f1_score\n",
    "f1 = f1_score(y_train,y_train_pred_rf)\n",
    "print(\"F1 Score of train data:\", f1)\n",
    "\n",
    "f2 = f1_score(y_test,y_test_pred_rf)\n",
    "print(\"F1 Score of test data:\", f2)"
   ]
  },
  {
   "cell_type": "code",
   "execution_count": 27,
   "id": "eb633f7d",
   "metadata": {
    "execution": {
     "iopub.execute_input": "2023-10-22T11:02:21.852324Z",
     "iopub.status.busy": "2023-10-22T11:02:21.851512Z",
     "iopub.status.idle": "2023-10-22T11:02:23.686625Z",
     "shell.execute_reply": "2023-10-22T11:02:23.685411Z"
    },
    "id": "4OJo718DiDkt",
    "papermill": {
     "duration": 1.856022,
     "end_time": "2023-10-22T11:02:23.689330",
     "exception": false,
     "start_time": "2023-10-22T11:02:21.833308",
     "status": "completed"
    },
    "tags": []
   },
   "outputs": [
    {
     "name": "stdout",
     "output_type": "stream",
     "text": [
      "              precision    recall  f1-score   support\n",
      "\n",
      "           0       1.00      1.00      1.00   1289169\n",
      "           1       1.00      1.00      1.00      7506\n",
      "\n",
      "    accuracy                           1.00   1296675\n",
      "   macro avg       1.00      1.00      1.00   1296675\n",
      "weighted avg       1.00      1.00      1.00   1296675\n",
      "\n"
     ]
    }
   ],
   "source": [
    "from sklearn.metrics import classification_report\n",
    "report = classification_report(y_test, y_test_pred_rf)\n",
    "print(report)"
   ]
  },
  {
   "cell_type": "markdown",
   "id": "5fe151ae",
   "metadata": {
    "id": "84k3HulxiIiV",
    "papermill": {
     "duration": 0.017564,
     "end_time": "2023-10-22T11:02:23.725574",
     "exception": false,
     "start_time": "2023-10-22T11:02:23.708010",
     "status": "completed"
    },
    "tags": []
   },
   "source": [
    "**Train Confusion Matrix**"
   ]
  },
  {
   "cell_type": "code",
   "execution_count": 28,
   "id": "5490d9b1",
   "metadata": {
    "execution": {
     "iopub.execute_input": "2023-10-22T11:02:23.763623Z",
     "iopub.status.busy": "2023-10-22T11:02:23.762792Z",
     "iopub.status.idle": "2023-10-22T11:02:24.063178Z",
     "shell.execute_reply": "2023-10-22T11:02:24.061862Z"
    },
    "id": "HIs1WPKHiRco",
    "papermill": {
     "duration": 0.323635,
     "end_time": "2023-10-22T11:02:24.066546",
     "exception": false,
     "start_time": "2023-10-22T11:02:23.742911",
     "status": "completed"
    },
    "tags": []
   },
   "outputs": [
    {
     "data": {
      "image/png": "[encoded data removed]",
      "text/plain": [
       "<Figure size 600x400 with 1 Axes>"
      ]
     },
     "metadata": {},
     "output_type": "display_data"
    }
   ],
   "source": [
    "from sklearn.metrics import confusion_matrix\n",
    "\n",
    "# Compute the confusion matrix\n",
    "cm = confusion_matrix(y_train, y_train_pred_rf)\n",
    "\n",
    "# Create a heatmap to visualize the confusion matrix\n",
    "plt.figure(figsize=(6, 4))\n",
    "sns.heatmap(cm, annot=True, fmt=\"d\", cmap=\"Blues\", cbar=False)\n",
    "plt.xlabel(\"Predicted Labels \")\n",
    "plt.ylabel(\"True Labels \")\n",
    "plt.title(\" Train Confusion Matrix\")\n",
    "plt.show()\n"
   ]
  },
  {
   "cell_type": "markdown",
   "id": "3ffc3110",
   "metadata": {
    "id": "hKLTiQawiUgh",
    "papermill": {
     "duration": 0.018582,
     "end_time": "2023-10-22T11:02:24.122973",
     "exception": false,
     "start_time": "2023-10-22T11:02:24.104391",
     "status": "completed"
    },
    "tags": []
   },
   "source": [
    "**Test Confusion Matrix**"
   ]
  },
  {
   "cell_type": "code",
   "execution_count": 29,
   "id": "48ff0773",
   "metadata": {
    "execution": {
     "iopub.execute_input": "2023-10-22T11:02:24.160597Z",
     "iopub.status.busy": "2023-10-22T11:02:24.159857Z",
     "iopub.status.idle": "2023-10-22T11:02:24.463749Z",
     "shell.execute_reply": "2023-10-22T11:02:24.462124Z"
    },
    "id": "3lPpHqCxiYE4",
    "papermill": {
     "duration": 0.325445,
     "end_time": "2023-10-22T11:02:24.466390",
     "exception": false,
     "start_time": "2023-10-22T11:02:24.140945",
     "status": "completed"
    },
    "tags": []
   },
   "outputs": [
    {
     "data": {
      "image/png": "[encoded data removed]",
      "text/plain": [
       "<Figure size 600x400 with 1 Axes>"
      ]
     },
     "metadata": {},
     "output_type": "display_data"
    }
   ],
   "source": [
    "from sklearn.metrics import confusion_matrix\n",
    "\n",
    "# Compute the confusion matrix\n",
    "cm = confusion_matrix(y_test, y_test_pred_rf)\n",
    "\n",
    "# Create a heatmap to visualize the confusion matrix\n",
    "plt.figure(figsize=(6, 4))\n",
    "sns.heatmap(cm, annot=True, fmt=\"d\", cmap=\"Blues\", cbar=False)\n",
    "plt.xlabel(\"Predicted Labels \")\n",
    "plt.ylabel(\"True Labels \")\n",
    "plt.title(\" Test Confusion Matrix\")\n",
    "plt.show()\n"
   ]
  },
  {
   "cell_type": "code",
   "execution_count": null,
   "id": "42a2d23e",
   "metadata": {
    "id": "jHLuNXEleNPO",
    "papermill": {
     "duration": 0.0186,
     "end_time": "2023-10-22T11:02:24.503361",
     "exception": false,
     "start_time": "2023-10-22T11:02:24.484761",
     "status": "completed"
    },
    "tags": []
   },
   "outputs": [],
   "source": []
  }
 ],
 "metadata": {
  "kernelspec": {
   "display_name": "Python 3",
   "language": "python",
   "name": "python3"
  },
  "language_info": {
   "codemirror_mode": {
    "name": "ipython",
    "version": 3
   },
   "file_extension": ".py",
   "mimetype": "text/x-python",
   "name": "python",
   "nbconvert_exporter": "python",
   "pygments_lexer": "ipython3",
   "version": "3.10.12"
  },
  "papermill": {
   "default_parameters": {},
   "duration": 9880.853551,
   "end_time": "2023-10-22T11:02:25.665921",
   "environment_variables": {},
   "exception": null,
   "input_path": "__notebook__.ipynb",
   "output_path": "__notebook__.ipynb",
   "parameters": {},
   "start_time": "2023-10-22T08:17:44.812370",
   "version": "2.4.0"
  }
 },
 "nbformat": 4,
 "nbformat_minor": 5
}
